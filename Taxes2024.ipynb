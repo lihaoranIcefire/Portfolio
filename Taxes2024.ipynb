{
  "nbformat": 4,
  "nbformat_minor": 0,
  "metadata": {
    "colab": {
      "provenance": [],
      "authorship_tag": "ABX9TyNu5qJcp4cI42U79+yMXA3f",
      "include_colab_link": true
    },
    "kernelspec": {
      "name": "python3",
      "display_name": "Python 3"
    },
    "language_info": {
      "name": "python"
    }
  },
  "cells": [
    {
      "cell_type": "markdown",
      "metadata": {
        "id": "view-in-github",
        "colab_type": "text"
      },
      "source": [
        "<a href=\"https://colab.research.google.com/github/lihaoranIcefire/Portfolio/blob/main/TaxCalculator.ipynb\" target=\"_parent\"><img src=\"https://colab.research.google.com/assets/colab-badge.svg\" alt=\"Open In Colab\"/></a>"
      ]
    },
    {
      "cell_type": "code",
      "source": [
        "import pandas as pd\n",
        "import numpy as np\n",
        "import matplotlib as plt\n",
        "import re\n",
        "import json"
      ],
      "metadata": {
        "id": "VZLrJuuWUSKO"
      },
      "execution_count": null,
      "outputs": []
    },
    {
      "cell_type": "code",
      "source": [
        "tax_info = {\n",
        "    \"federal income tax bracket\": [\n",
        "        [\n",
        "            0,\n",
        "            6400,\n",
        "            18325,\n",
        "            54875,\n",
        "            109750,\n",
        "            203700,\n",
        "            256925,\n",
        "            632750\n",
        "        ],\n",
        "        [\n",
        "            0.0,\n",
        "            0.1,\n",
        "            0.12,\n",
        "            0.22,\n",
        "            0.24,\n",
        "            0.32,\n",
        "            0.35,\n",
        "            0.37\n",
        "        ]\n",
        "    ],\n",
        "    \"capital gain tax bracket\": [\n",
        "        [\n",
        "            0,\n",
        "            44625,\n",
        "            492300\n",
        "        ],\n",
        "        [\n",
        "            0.0,\n",
        "            0.15,\n",
        "            0.2\n",
        "        ]\n",
        "    ],\n",
        "    \"standard deduction\": 14600\n",
        "}"
      ],
      "metadata": {
        "id": "DxMgBKesRWN1"
      },
      "execution_count": null,
      "outputs": []
    },
    {
      "cell_type": "code",
      "source": [
        "with open(\"single_2024_tax_info.json\", \"w\") as json_file:\n",
        "    json.dump(tax_info, json_file, indent=4)"
      ],
      "metadata": {
        "id": "OOYeDMW6RYMr"
      },
      "execution_count": null,
      "outputs": []
    },
    {
      "cell_type": "code",
      "source": [
        "pmt = lambda r, n, pv, fv: r / ((1 + r) ** n - 1) * (pv * (1 + r) ** n - fv)"
      ],
      "metadata": {
        "id": "Y7nePL5aUP9P"
      },
      "execution_count": 42,
      "outputs": []
    },
    {
      "cell_type": "code",
      "source": [
        "pmt(0.063 / 12, 30 * 12, 744000, 0)"
      ],
      "metadata": {
        "id": "RdX9WIG2Ub3G",
        "outputId": "9a3f7933-beda-4047-8595-88ccf35c02eb",
        "colab": {
          "base_uri": "https://localhost:8080/"
        }
      },
      "execution_count": 44,
      "outputs": [
        {
          "output_type": "execute_result",
          "data": {
            "text/plain": [
              "4605.157553603811"
            ]
          },
          "metadata": {},
          "execution_count": 44
        }
      ]
    },
    {
      "cell_type": "markdown",
      "source": [
        "# Form"
      ],
      "metadata": {
        "id": "F3wlLyNPx6nM"
      }
    },
    {
      "cell_type": "code",
      "source": [
        "import copy\n",
        "import math\n",
        "import pprint\n",
        "\n",
        "class Form(object):\n",
        "    \"\"\"\n",
        "    The base class for all tax forms. This acts like a dictionary but has\n",
        "    some useful behaviors:\n",
        "      - Values assigned in the dictionary are automatically rounded to the\n",
        "        nearest integer (the \"whole dollar method\").\n",
        "      - When missing values are retrieved with the [] operator, 0 is returned.\n",
        "      - Individual lines in the form can be automatically initialized by the\n",
        "        \"inputs\" dictionary.\n",
        "    \"\"\"\n",
        "\n",
        "    def __init__(self, init_idx=None, **inputs):\n",
        "        self.data = {}\n",
        "        self.comment = {}\n",
        "        self.must_file = False\n",
        "        self.forms = []\n",
        "        self.disable_rounding = inputs.get('disable_rounding', False)\n",
        "        name = self.__class__.__name__\n",
        "        if name in inputs:\n",
        "            if init_idx is not None:\n",
        "                init_dict = inputs[name][init_idx]\n",
        "            else:\n",
        "                init_dict = inputs[name]\n",
        "            for key in init_dict:\n",
        "                self[key] = init_dict[key]\n",
        "\n",
        "    def get(self, key):\n",
        "        return self.data[key] if key in self.data else None\n",
        "    def __getitem__(self, key):\n",
        "        val = self.data.get(key)\n",
        "        return 0 if val is None else val\n",
        "\n",
        "    def __contains__(self, key):\n",
        "        return key in self.data\n",
        "\n",
        "    def __setitem__(self, key, val):\n",
        "        if val is None:\n",
        "            if key in self.data:\n",
        "                del self.data[key]\n",
        "        elif self.disable_rounding:\n",
        "            self.data[key] = float(val)\n",
        "        else:\n",
        "            self.data[key] = int(round(val))\n",
        "\n",
        "    def rowSum(self, rows):\n",
        "        \"\"\"\n",
        "        Convenience function for summing a list of rows in the form by\n",
        "        regex pattern. If all named rows are blank, returns None.\n",
        "        \"\"\"\n",
        "        raw_pattern = '(' + '|'.join(rows) + ')'\n",
        "        pattern = re.compile(raw_pattern)\n",
        "        val = sum(v for k, v in self.data.items() if pattern.fullmatch(k))\n",
        "        if any(pattern.fullmatch(k) for k, v in self.data.items()):\n",
        "            return val\n",
        "        return None\n",
        "\n",
        "    def spouseSum(self, inputs, field):\n",
        "        \"\"\"\n",
        "        Sums two spouses inputs if filing a joint return.\n",
        "        \"\"\"\n",
        "        if field not in inputs:\n",
        "            return None\n",
        "        if inputs['status'] == \"joint\":\n",
        "            return inputs[field][0] + inputs[field][1]\n",
        "        else:\n",
        "            return inputs[field]\n",
        "\n",
        "    def printForm(self):\n",
        "        \"\"\"\n",
        "        Prints all rows of a form, skipping empty rows. The rows are sorted\n",
        "        sensibly.\n",
        "        \"\"\"\n",
        "        def atoi(s):\n",
        "            return int(s) if s.isdigit() else s\n",
        "        def mixed_keys(s):\n",
        "            return [ atoi(c) for c in re.split('(\\d+)', s) ]\n",
        "\n",
        "        locale.setlocale(locale.LC_ALL, '')\n",
        "        print('%s:' % self.title())\n",
        "        keys = list(self.data.keys())\n",
        "        keys = sorted(keys, key=mixed_keys)\n",
        "        for k in keys:\n",
        "            print('  %6s %11s' % (k, locale.format('%d', self[k], 1)), end='')\n",
        "            if k in self.comment:\n",
        "                print('  %s' % self.comment[k], end='')\n",
        "            print('')\n",
        "\n",
        "    def printAllForms(self):\n",
        "        \"\"\"\n",
        "        Prints all child forms of this form that must be filed with the\n",
        "        tax return.\n",
        "        \"\"\"\n",
        "        for f in self.forms:\n",
        "            if f.must_file:\n",
        "                f.printForm()\n",
        "\n",
        "\n",
        "# ------------------------------------------------------------------------\n",
        "# Federal Taxes\n",
        "# ------------------------------------------------------------------------\n",
        "\n",
        "\n",
        "class F8889(Form):\n",
        "    pass\n",
        "\n",
        "\n",
        "\n",
        "class F1040SA(Form):\n",
        "    \"\"\"\n",
        "    Schedule A (Form 1040), Itemized Deductions\n",
        "    \"\"\"\n",
        "\n",
        "    def __init__(f, f1040, **inputs):\n",
        "        super(F1040SA, f1040, f).__init__(**inputs)\n",
        "        if f['1']:\n",
        "            f['2'] = f1040['11']\n",
        "            f['3'] = f['2'] * .075\n",
        "            f['4'] = max(0, f['1'] - f['3'])\n",
        "        f['5a'] = inputs['withheld_state'] + \\\n",
        "                  inputs.get('extra_state_tax_payments', 0)\n",
        "        f['5d'] = f.rowSum(['5a', '5b', '5c'])\n",
        "        f['5e'] = min(f['5d'], 5000 if inputs['status'] == 'separate' else 10000)\n",
        "        f['7'] = f.rowSum(['5e', '6'])\n",
        "        f['8e'] = f.rowSum(['8a', '8b', '8c', '8d'])\n",
        "        f['10'] = f.rowSum(['8e', '9'])\n",
        "        f['14'] = f.rowSum(['11', '12', '13'])\n",
        "        f['17'] = f.rowSum(['4', '7', '10', '14', '15', '16'])\n",
        "\n",
        "    def title(self):\n",
        "        return 'Schedule A (Form 1040)'\n",
        "\n",
        "\n",
        "\n",
        "class F1040SD(Form):\n",
        "    \"\"\"\n",
        "    Schedule D (Form 1040), Capital Gains and Losses\n",
        "    \"\"\"\n",
        "\n",
        "    def __init__(f, **inputs):\n",
        "        super(F1040SD, f).__init__(**inputs)\n",
        "        if 'capital_gain_long' not in inputs \\\n",
        "            and 'capital_gain_short' not in inputs \\\n",
        "            and 'capital_gain_carryover_short' not in inputs \\\n",
        "            and 'capital_gain_carryover_long' not in inputs:\n",
        "            return\n",
        "\n",
        "        f.must_file = True\n",
        "\n",
        "        # Part I: Short-Term Capital Gains and Losses—Generally Assets Held One Year or Less\n",
        "        f.comment['1a'] = 'Short-term capital gain'\n",
        "        f['1a'] = inputs.get('capital_gain_short')\n",
        "\n",
        "        f.comment['6'] = 'Short-term capital gain carryover'\n",
        "        f['6'] = inputs.get('capital_gain_short_carryover')\n",
        "\n",
        "        f.comment['7'] = 'Net short-term capital gain or (loss)'\n",
        "        f['7'] = f.rowSum(['1a', '1b', '2', '3', '4', '5', '6'])\n",
        "\n",
        "        # Part II: Long-Term Capital Gains and Losses—Generally Assets Held More Than One Year\n",
        "        f.comment['8a'] = 'Long-term capital gain'\n",
        "        f['8a'] = inputs.get('capital_gain_long')\n",
        "\n",
        "        f.comment['13'] = 'Capital gain distributions'\n",
        "        f['13'] = inputs.get('capital_gain_distribution')\n",
        "\n",
        "        f.comment['14'] = 'Long-term capital gain carryover'\n",
        "        f['14'] = inputs.get('capital_gain_long_carryover')\n",
        "\n",
        "        f.comment['15'] = 'Net long-term capital gain or (loss)'\n",
        "        f['15'] = f.rowSum(['8a', '8b', '9', '10', '11', '12', '13', '14'])\n",
        "\n",
        "        # Part III: Summary\n",
        "        f['16'] = f.rowSum(['7', '15'])\n",
        "\n",
        "        if f['16'] < 0:\n",
        "            cutoff = -1500 if inputs['status'] == \"separate\" else -3000\n",
        "            f['21'] = max(f['16'], cutoff)\n",
        "\n",
        "        # if lines 15 and 16 are both gains and line 18 or 19 has a value:\n",
        "        #     Use the Schedule D tax worksheet\n",
        "        # else if lines 15 and 16 are both gains or you have qualified divs:\n",
        "        #     Use the Qualified Dividends and Capital Gain Tax Worksheet\n",
        "        # else\n",
        "        #     Use tax tables\n",
        "\n",
        "    @property\n",
        "    def title(f):\n",
        "        return 'Schedule D (Form 1040)'\n",
        "\n",
        "\n",
        "\n",
        "class F1040S1(Form):\n",
        "    \"\"\"\n",
        "    Schedule 1 (Form 1040): Additional Income and Adjustments to Income\n",
        "    \"\"\"\n",
        "\n",
        "    def __init__(f, **inputs):\n",
        "        super(F1040S1, f).__init__(**inputs)\n",
        "\n",
        "        f.must_file = True\n",
        "\n",
        "        # Part I: Additional Income\n",
        "        f.comment['1'] = \"Taxable refunds, credits, or offsets of state and local income taxes\"\n",
        "        f['1'] = inputs.get('refund_state')\n",
        "\n",
        "        f.comment['3'] = 'Business income or (loss)'\n",
        "        f['3'] = f.spouseSum(inputs, 'income_business')\n",
        "\n",
        "        f.comment['7'] = 'unemployment_compensation'\n",
        "        f['7'] = inputs.get('unemployment_compensation')\n",
        "\n",
        "        f.comment['9'] = 'Total other income'\n",
        "        f['9'] = f.rowSum(['8[a-z]'])\n",
        "\n",
        "        f.comment['10'] = 'Additional income'\n",
        "        f['10'] = f.rowSum(['1', '2a', '[3-7]', '9'])\n",
        "\n",
        "        # Part II: Adjustments to Income\n",
        "        f.comment['25'] = 'Total other adjustments.'\n",
        "        f['25'] = f.rowSum(['24[a-z]'])\n",
        "\n",
        "        f.comment['26'] = 'adjustments to income'\n",
        "        f['26'] = f.rowSum(['1[1-8]', '19a', '2[0-3]', '25'])\n",
        "\n",
        "    @property\n",
        "    def title(self):\n",
        "        return 'Schedule 1 (Form 1040)'\n",
        "\n",
        "\n",
        "\n",
        "class F1040(Form):\n",
        "    \"\"\"\n",
        "    Form 1040\n",
        "    \"\"\"\n",
        "\n",
        "    def __init__(f, **inputs):\n",
        "        super(F1040, f).__init__(**inputs)\n",
        "\n",
        "        with open(f\"{inputs['status']}_{inputs['year']}_tax_info.json\", \"r\") as file:\n",
        "            f.info = json.load(file)\n",
        "\n",
        "        f.must_file = True\n",
        "        f.forms.append(f)\n",
        "\n",
        "        f.comment['1a'] = 'Wages: Total amount from Form(s) W-2, box 1'\n",
        "        f['1a'] = f.spouseSum(inputs, 'wages')\n",
        "\n",
        "        f['1z'] = f.rowSum(['1a', '1b', '1c', '1d', '1e', '1f', '1g', '1h'])\n",
        "\n",
        "        f.comment['2a'] = 'Tax-exempt interest'\n",
        "        f['2a'] = inputs.get('tax_exempt_interest')\n",
        "\n",
        "        f.comment['2b'] = 'Taxable Interest'\n",
        "        f['2b'] = inputs.get('taxable_interest')\n",
        "\n",
        "        f.comment['3a'] = 'Qualified dividends'\n",
        "        f['3a'] = inputs.get('qualified_dividends')\n",
        "\n",
        "        f.comment['3b'] = 'Ordinary dividends'\n",
        "        f['3b'] = inputs.get('dividends')\n",
        "\n",
        "        sd = F1040SD(**inputs)\n",
        "        f.forms.append(sd)\n",
        "\n",
        "        f.comment['7'] = 'Capital gain or (loss)'\n",
        "        f['7'] = sd['21'] or sd['16'] if sd.must_file else inputs.get('capital_gain_distribution')\n",
        "\n",
        "        s1 = F1040S1(**inputs)\n",
        "        f.forms.append(s1)\n",
        "\n",
        "        f.comment['8'] = 'Additional income from Schedule 1, line 10'\n",
        "        f['8'] = s1['10']\n",
        "\n",
        "        f.comment['9'] = 'Total Income'\n",
        "        f['9'] = f.rowSum(['1z', '2b', '3b', '4b', '5b', '6b', '7', '8'])\n",
        "\n",
        "        f.comment['10'] = 'Adjustments to income from Schedule 1, line 26'\n",
        "        f['10'] = s1['26']\n",
        "\n",
        "        f.comment['11'] = 'Adjusted gross income'\n",
        "        f['11'] = f['9'] - f['10']\n",
        "\n",
        "        sa = F1040SA(f, **inputs)\n",
        "        f.forms.append(sa)\n",
        "        sa.must_file = inputs.get('itemize_deductions', sa['17'] > f.info['standard deduction'])\n",
        "\n",
        "        f.comment['12'] = 'Itemized deductions' if sa.must_file else 'Standard deduction'\n",
        "        f['12'] = sa['17'] if sa.must_file else f.info['standard deduction']\n",
        "\n",
        "        f['14'] = f.rowSum(['12', '13'])\n",
        "\n",
        "        f.comment['15'] = 'Taxable Income'\n",
        "        f['15'] = max(0, f['11'] - f['14'])\n",
        "\n",
        "        f.comment['16'] = 'Tax'\n",
        "        f['16'] = f.qualfiedDividendsAndCapitalGainTaxWorksheet(sd, **inputs)['25']\n",
        "\n",
        "        f['18'] = f.rowSum(['16', '17'])\n",
        "\n",
        "        f.comment['21'] = 'Total Credits'\n",
        "        f['21'] = f['19'] + f['20']\n",
        "\n",
        "        f['22'] = max(0, f['18'] - f['21'])\n",
        "\n",
        "        f.comment['24'] = 'Total Tax'\n",
        "        f['24'] = f.rowSum(['22', '23'])\n",
        "\n",
        "        f['25a'] = inputs.get('withheld_fed', 0)\n",
        "\n",
        "        f['25d'] = f.rowSum(['25a', '25b', '25c'])\n",
        "\n",
        "        f.comment['33'] = 'Total payments'\n",
        "        f['33'] = f.rowSum(['25d', '26', '32'])\n",
        "\n",
        "        if f['33'] > f['24']:\n",
        "            f.comment['34'] = 'Refund'\n",
        "            f['34'] = f['33'] - f['24']\n",
        "        else:\n",
        "            f.comment['37'] = 'Amount you owe'\n",
        "            f['37'] = f['24'] - f['33']\n",
        "\n",
        "\n",
        "    def qualfiedDividendsAndCapitalGainTaxWorksheet(f, sd, **inputs):\n",
        "        \"\"\"\n",
        "        Qualified Dividends and Capital Gain Tax Worksheet\n",
        "        \"\"\"\n",
        "        w = {}\n",
        "        w['1'] = f['15'] # Taxable income\n",
        "        w['2'] = f['3a'] # Qualified dividends\n",
        "        w['3'] = max(0, min(sd['15'], sd['16'])) if sd.must_file else f['7'] # Capital gain or (loss)\n",
        "        w['4'] = w['2'] + w['3']\n",
        "        w['5'] = max(0, w['1'] - w['4'])\n",
        "        w['6'] = f.CAPGAIN15_LIMITS\n",
        "        w['7'] = min(w['1'], w['6'])\n",
        "        w['8'] = min(w['5'], w['7'])\n",
        "        w['9'] = w['7'] - w['8']\n",
        "        w['10'] = min(w['1'], w['4'])\n",
        "        w['11'] = w['9']\n",
        "        w['12'] = w['10'] - w['11']\n",
        "        w['13'] = f.CAPGAIN20_LIMITS\n",
        "        w['14'] = min(w['1'], w['13'])\n",
        "        w['15'] = w['5'] + w['9']\n",
        "        w['16'] = max(0, w['14'] - w['15'])\n",
        "        w['17'] = min(w['12'], w['16'])\n",
        "        w['18'] = w['17'] * 0.15\n",
        "        w['19'] = w['9'] + w['17']\n",
        "        w['20'] = w['10'] - w['19']\n",
        "        w['21'] = w['20'] * 0.20\n",
        "        w['22'] = f.taxComputationWorksheet(*f.info[\"federal income tax bracket\"], w['5'])\n",
        "        w['23'] = w['18'] + w['21'] + w['22']\n",
        "        w['24'] = f.taxComputationWorksheet(*f.info[\"federal income tax bracket\"], w['1'])\n",
        "        w['25'] = min(w['23'], w['24'])\n",
        "        return w\n",
        "\n",
        "    @staticmethod\n",
        "    def taxComputationWorksheet(interval, rates, income, staircase=True):\n",
        "        \"\"\"\n",
        "        Tax Computation Worksheet\n",
        "        \"\"\"\n",
        "        assert len(interval) == len(rates)\n",
        "\n",
        "        if not staircase:\n",
        "            for i in range(len(rates)-1):\n",
        "                if interval[i] < income <= interval[i+1]:\n",
        "                    return income * rates[i]\n",
        "\n",
        "        tax = 0\n",
        "        for i in range(len(rates)-1):\n",
        "            if income < interval[i+1]:\n",
        "                return tax + (income - interval[i]) * rates[i]\n",
        "            else:\n",
        "                tax += (interval[i+1] - interval[i]) * rates[i]\n",
        "        return tax + (income - interval[-1]) * rates[-1]\n",
        "\n",
        "    @property\n",
        "    def title(f):\n",
        "        return 'Form 1040'\n",
        "\n",
        "\n",
        "\n",
        "# ------------------------------------------------------------------------\n",
        "# State Taxes\n",
        "# ------------------------------------------------------------------------\n",
        "\n",
        "\n",
        "\n",
        "class NJ1040(Form):\n",
        "    pass\n",
        "\n",
        "\n",
        "\n",
        "# ------------------------------------------------------------------------\n",
        "# Local Taxes\n",
        "# ------------------------------------------------------------------------\n",
        "\n",
        "\n",
        "\n"
      ],
      "metadata": {
        "id": "_RMu_lP4xbmO"
      },
      "execution_count": null,
      "outputs": []
    },
    {
      "cell_type": "markdown",
      "source": [
        "# State form"
      ],
      "metadata": {
        "id": "hQSk4xWUeGZo"
      }
    },
    {
      "cell_type": "code",
      "source": [
        "class VA760(Form):\n",
        "    \"\"\"\n",
        "    Form VA760\n",
        "    \"\"\"\n",
        "\n",
        "    def __init__(f, f1040, **inputs):\n",
        "        super(VA760, f).__init__(inputs)\n",
        "\n",
        "        with open(f\"{inputs['status']}_{inputs['year']}_tax_info.json\", \"r\") as file:\n",
        "            f.info = json.load(file)\n",
        "\n",
        "        f.must_file = True\n",
        "        f.forms.append(f)\n",
        "\n",
        "        f.comment['1'] = 'Adjusted gross income from federal return'\n",
        "        f['1'] = f1040['11']\n",
        "\n",
        "        f['3'] = f.rowSum(['1', '2'])\n",
        "\n",
        "\n",
        "\n",
        "    @property\n",
        "    def title(f):\n",
        "        return 'VA 760 Form'"
      ],
      "metadata": {
        "id": "UtrAiduGeMuC"
      },
      "execution_count": null,
      "outputs": []
    },
    {
      "cell_type": "markdown",
      "source": [
        "# Test"
      ],
      "metadata": {
        "id": "ybdVp_Jdx13F"
      }
    },
    {
      "cell_type": "code",
      "source": [
        "inputs = {\n",
        "    'year': 2024,\n",
        "    'status': \"single\",\n",
        "    'exemptions': 1,\n",
        "    'wages': 100000.00, # W2 box 1\n",
        "    'withheld_fed': 20000.00, # W2 box 2\n",
        "    'wages_ss': 100000.00, # W2 box 3\n",
        "    'withheld_ss': 6200.00, # W2 box 4\n",
        "    'wages_medicare': 100000.00, # W2 box 5\n",
        "    'withheld_medicare': 1450.00, # W2 box 6\n",
        "    'state_withheld': 10000.00, # W2 box 17\n",
        "}\n",
        "\n",
        "f = F1040(inputs)\n",
        "f.printAllForms()\n",
        "print('')\n",
        "ca = CA540(inputs, f)\n",
        "ca.printAllForms()"
      ],
      "metadata": {
        "id": "N6-OomNdx07n"
      },
      "execution_count": null,
      "outputs": []
    },
    {
      "cell_type": "markdown",
      "source": [
        "# Tax Calculator"
      ],
      "metadata": {
        "id": "dpSxYaHFUvgv"
      }
    },
    {
      "cell_type": "code",
      "source": [
        "import pandas as pd\n",
        "import numpy as np\n",
        "import matplotlib as plt\n",
        "import re\n",
        "import json\n",
        "\n",
        "class TaxCalculator:\n",
        "    \"\"\"\n",
        "    Personal tax calculator\n",
        "    \"\"\"\n",
        "\n",
        "    def __init__(self,\n",
        "                 status='single',\n",
        "                 year=2024,\n",
        "                 salary=175000,\n",
        "                 bonus=35000,\n",
        "                 payment_frequency=26,\n",
        "                 short_term_capital_gain=0,\n",
        "                 long_term_capital_gain=0,\n",
        "                 tax_treaty=5000,\n",
        "                 traditional_401k=0,\n",
        "                 hsa=0,\n",
        "                 donation=0,\n",
        "                 federal_tax_withheld=0):\n",
        "\n",
        "        self.status = status\n",
        "        self.year = year\n",
        "        self.salary = salary\n",
        "        self.bonus = bonus\n",
        "        self.payment_frequency = payment_frequency\n",
        "        self.short_term_capital_gain = short_term_capital_gain\n",
        "        self.long_term_capital_gain = long_term_capital_gain\n",
        "        self.traditional_401k = traditional_401k\n",
        "        self.hsa = hsa\n",
        "        self.donation = donation\n",
        "        self.federal_tax_withheld = federal_tax_withheld\n",
        "\n",
        "        with open(f\"{status}_{year}_tax_info.json\", \"r\") as file:\n",
        "            tax_info = json.load(file)\n",
        "        self.federal_tax_bracket = self.info[\"federal_tax_bracket\"]\n",
        "        self.capital_gain_tax_bracket = self.info[\"capital_gain_tax_bracket\"]\n",
        "        self.standar_deduction = self.info[\"standar_deduction\"]\n",
        "\n",
        "    @staticmethod\n",
        "    def tax_liability(interval, rates, income, staircase=True):\n",
        "        assert len(interval) == len(rates)\n",
        "\n",
        "        if not staircase:\n",
        "            for i in range(len(rates)-1):\n",
        "                if interval[i] < income <= interval[i+1]:\n",
        "                    return income * rates[i]\n",
        "\n",
        "        accrued_sum = 0\n",
        "        for i in range(len(rates)-1):\n",
        "            if income < interval[i+1]:\n",
        "                return accrued_sum + (income - interval[i]) * rates[i]\n",
        "            else:\n",
        "                accrued_sum += (interval[i+1] - interval[i]) * rates[i]\n",
        "        return accrued_sum + (income - interval[-1]) * rates[-1]\n",
        "\n",
        "    def federal_tax(self, deduction_method='standard'):\n",
        "\n",
        "        if deduction_method == 'standard':\n",
        "            taxable_income = self.salary \\\n",
        "                            + self.bonus \\\n",
        "                            + self.short_term_capital_gain \\\n",
        "                            - self.traditional_401k \\\n",
        "                            - self.hsa \\\n",
        "                            - self.standard_deduction\n",
        "\n",
        "        return TaxCalculator.tax_liability(*self.federal_tax_bracket, taxable_income) \\\n",
        "             + TaxCalculator.tax_liability(*self.capital_gain_tax_bracket, self.long_term_capital_gain) \\\n",
        "\n",
        "\n",
        "    # def fica(icome)\n",
        "\n",
        "    # def state_tax\n",
        "\n",
        "    # def local_tax\n",
        "\n",
        "    # def f1040"
      ],
      "metadata": {
        "id": "aG7gNHQJ072z"
      },
      "execution_count": null,
      "outputs": []
    },
    {
      "cell_type": "markdown",
      "source": [
        "## Federal income tax\n",
        "\n",
        "1. `annual_wage`: (paycheck's gross pay) $\\times$ (pay frequency). The pay frequency is\n",
        "    - once per quarter: **Quarterly = 4**\n",
        "    - once a month: **Monthly = 12**\n",
        "    - twice per month: **Semi-monthly = 24**\n",
        "    - once every other week: **Bi-weekly = 26**\n",
        "    - every week: **Weekly = 52**\n",
        "2. `filing_status`: Either \"single\", \"married filing separately\", \"married filing jointly\", or \"head of household\".\n",
        "3. `other_income`: The amount from Step 4(a) of Form W-4 (additional income not from jobs. Such as interests, dividends, retirement, etc.) and add it to the wages from Step 3. Write this result down.\n",
        "4. `additional_deduction`: The amount from Step 4(b) of Form W-4 (additional deductions beyond the standard deduction).\n",
        "5. `multiple_jobs`: The Step 2 box of Form W-4.\n",
        "7. `adjusted_annual_wage`: Taxable income for the tax brackets.\n",
        "8. Tax brackets are on page 11 of the IRS Publication 15T:\n",
        "    - If the Step 2 box of Form W-4 is **not checked**, use the table on the left.\n",
        "    - If the Step 2 box of Form W-4 is **checked**, use the table on the right.\n",
        "9. `additional_credit`: Step 3 of Form W-4.\n",
        "10. `additional_deduction`: Step 4(c) of Form W-4."
      ],
      "metadata": {
        "id": "hlVIpv2KdLuR"
      }
    },
    {
      "cell_type": "code",
      "source": [
        "TaxCalculator.federal_income_tax(280000, filing_status=\"married filing jointly\")"
      ],
      "metadata": {
        "colab": {
          "base_uri": "https://localhost:8080/"
        },
        "id": "useQ73IAYVZG",
        "outputId": "b506403e-a126-4d5b-badf-367b9f3ae51c"
      },
      "execution_count": null,
      "outputs": [
        {
          "output_type": "execute_result",
          "data": {
            "text/plain": [
              "48790.0"
            ]
          },
          "metadata": {},
          "execution_count": 39
        }
      ]
    },
    {
      "cell_type": "code",
      "source": [
        "TaxCalculator.federal_income_tax(280000)"
      ],
      "metadata": {
        "colab": {
          "base_uri": "https://localhost:8080/"
        },
        "id": "MjlOzXPV514z",
        "outputId": "73e5e8c9-e97c-422d-e720-62cdec91a6b2"
      },
      "execution_count": null,
      "outputs": [
        {
          "output_type": "execute_result",
          "data": {
            "text/plain": [
              "65307.25"
            ]
          },
          "metadata": {},
          "execution_count": 40
        }
      ]
    },
    {
      "cell_type": "code",
      "source": [
        "TaxCalculator.federal_income_tax(210000 - 23000 - 4150) / (210000)"
      ],
      "metadata": {
        "id": "jddIENRa7kBV",
        "colab": {
          "base_uri": "https://localhost:8080/"
        },
        "outputId": "4518f6c0-c46b-4a82-ff82-79bd7765276d"
      },
      "execution_count": null,
      "outputs": [
        {
          "output_type": "execute_result",
          "data": {
            "text/plain": [
              "0.1675952380952381"
            ]
          },
          "metadata": {},
          "execution_count": 20
        }
      ]
    },
    {
      "cell_type": "code",
      "source": [
        "210000 - 23000 - 4150"
      ],
      "metadata": {
        "colab": {
          "base_uri": "https://localhost:8080/"
        },
        "id": "96RA62EyGebP",
        "outputId": "06339c1c-029d-4138-901b-bcf46f657a09"
      },
      "execution_count": null,
      "outputs": [
        {
          "output_type": "execute_result",
          "data": {
            "text/plain": [
              "182850"
            ]
          },
          "metadata": {},
          "execution_count": 15
        }
      ]
    },
    {
      "cell_type": "code",
      "source": [
        "TaxCalculator.tax_liability([0, 20000, 35000, 40000, 75000, 500000, 1000000], [0.014, 0.0175, 0.035, 0.0525, 0.0637, 0.0897, 0.1075], 210000 - 23000 - 14600)"
      ],
      "metadata": {
        "colab": {
          "base_uri": "https://localhost:8080/"
        },
        "id": "-EtnlGXzHLKq",
        "outputId": "10b2c028-157b-467a-dfa5-d3bfd1ec2cd6"
      },
      "execution_count": null,
      "outputs": [
        {
          "output_type": "execute_result",
          "data": {
            "text/plain": [
              "8759.380000000001"
            ]
          },
          "metadata": {},
          "execution_count": 23
        }
      ]
    },
    {
      "cell_type": "code",
      "source": [
        "9689.4 / 210000"
      ],
      "metadata": {
        "colab": {
          "base_uri": "https://localhost:8080/"
        },
        "id": "cYRlAS2wI-Fk",
        "outputId": "dc47ab6e-8cc5-4c68-aad5-ec092643536b"
      },
      "execution_count": null,
      "outputs": [
        {
          "output_type": "execute_result",
          "data": {
            "text/plain": [
              "0.04614"
            ]
          },
          "metadata": {},
          "execution_count": 19
        }
      ]
    },
    {
      "cell_type": "code",
      "source": [
        "(8759.38 + TaxCalculator.federal_income_tax(210000 - 23000 - 4150 - 14600)) / 210000"
      ],
      "metadata": {
        "colab": {
          "base_uri": "https://localhost:8080/"
        },
        "id": "d1svXirsJK0g",
        "outputId": "492f9325-92b9-4cd5-8dd9-e71c7b3e5b88"
      },
      "execution_count": null,
      "outputs": [
        {
          "output_type": "execute_result",
          "data": {
            "text/plain": [
              "0.19262085714285712"
            ]
          },
          "metadata": {},
          "execution_count": 24
        }
      ]
    },
    {
      "cell_type": "code",
      "source": [
        "fica_ = 168600 * 0.062 + 210000 * 0.0145"
      ],
      "metadata": {
        "id": "KNbQnyaawJj1"
      },
      "execution_count": null,
      "outputs": []
    },
    {
      "cell_type": "code",
      "source": [
        "(210000 - fica_ - itemized_) / 12"
      ],
      "metadata": {
        "colab": {
          "base_uri": "https://localhost:8080/"
        },
        "id": "_o38aU0GwnTf",
        "outputId": "da7db608-5be0-46ba-8f0e-d36675d32d8c"
      },
      "execution_count": null,
      "outputs": [
        {
          "output_type": "execute_result",
          "data": {
            "text/plain": [
              "13987.545833333332"
            ]
          },
          "metadata": {},
          "execution_count": 186
        }
      ]
    },
    {
      "cell_type": "code",
      "source": [
        "210000 - fica_ - standard_"
      ],
      "metadata": {
        "colab": {
          "base_uri": "https://localhost:8080/"
        },
        "id": "d5Xz2s-kwYLA",
        "outputId": "0e38c241-e8cc-4838-e319-a0113486e111"
      },
      "execution_count": null,
      "outputs": [
        {
          "output_type": "execute_result",
          "data": {
            "text/plain": [
              "157251.41999999998"
            ]
          },
          "metadata": {},
          "execution_count": 180
        }
      ]
    },
    {
      "cell_type": "code",
      "source": [
        "standard_ = \\\n",
        "TaxCalculator.tax_liability([0, 20000, 35000, 40000, 75000, 500000, 1000000],\n",
        "                            [0.014, 0.0175, 0.035, 0.0525, 0.0637, 0.0897, 0.1075], 210000 - 23000 - 14600) \\\n",
        "+ TaxCalculator.federal_income_tax(210000 - 23000 - 4150 - 5000 - 14600)"
      ],
      "metadata": {
        "id": "6pj1NDkIJSs2"
      },
      "execution_count": null,
      "outputs": []
    },
    {
      "cell_type": "code",
      "source": [
        "itemized_ = \\\n",
        "TaxCalculator.tax_liability([0, 20000, 35000, 40000, 75000, 500000, 1000000],\n",
        "                            [0.014, 0.0175, 0.035, 0.0525, 0.0637, 0.0897, 0.1075], 210000 - 23000 - 49500) \\\n",
        "+ TaxCalculator.federal_income_tax(210000 - 23000 - 4150 - 5000 - 49500)"
      ],
      "metadata": {
        "id": "NjOQ_ii9KEQa"
      },
      "execution_count": null,
      "outputs": []
    },
    {
      "cell_type": "code",
      "source": [
        "standard_ - itemized_"
      ],
      "metadata": {
        "colab": {
          "base_uri": "https://localhost:8080/"
        },
        "id": "8GQUV3ayKdPa",
        "outputId": "197fcae9-e33e-4ea6-8782-8f39f48cdba1"
      },
      "execution_count": null,
      "outputs": [
        {
          "output_type": "execute_result",
          "data": {
            "text/plain": [
              "10599.130000000005"
            ]
          },
          "metadata": {},
          "execution_count": 36
        }
      ]
    },
    {
      "cell_type": "code",
      "source": [
        "mortgage_rate = 0.063\n",
        "years = 30"
      ],
      "metadata": {
        "id": "4BM-AdISxHQo"
      },
      "execution_count": null,
      "outputs": []
    },
    {
      "cell_type": "code",
      "source": [
        "759000 * mortgage_rate / 12 * (1 + mortgage_rate / 12) ** (12 * years) / ((1 + mortgage_rate / 12) ** (12 * years) - 1)"
      ],
      "metadata": {
        "colab": {
          "base_uri": "https://localhost:8080/"
        },
        "id": "6vWY7FYNw-Ki",
        "outputId": "9164bdaa-3390-41e5-d670-c8ee3c9cdbb6"
      },
      "execution_count": null,
      "outputs": [
        {
          "output_type": "execute_result",
          "data": {
            "text/plain": [
              "4698.003472023243"
            ]
          },
          "metadata": {},
          "execution_count": 36
        }
      ]
    },
    {
      "cell_type": "code",
      "source": [
        "4698.003472023243 - 4605.157553603812"
      ],
      "metadata": {
        "id": "F9d_vLLIpSZ9",
        "outputId": "12593821-c29e-4d6c-c382-244a5f93f6ff",
        "colab": {
          "base_uri": "https://localhost:8080/"
        }
      },
      "execution_count": null,
      "outputs": [
        {
          "output_type": "execute_result",
          "data": {
            "text/plain": [
              "92.84591841943165"
            ]
          },
          "metadata": {},
          "execution_count": 37
        }
      ]
    },
    {
      "cell_type": "code",
      "source": [
        "_ * 360"
      ],
      "metadata": {
        "colab": {
          "base_uri": "https://localhost:8080/"
        },
        "id": "bozoGF-1yJjJ",
        "outputId": "233beb6a-321b-47e0-b34f-37ddec3ffd3d"
      },
      "execution_count": null,
      "outputs": [
        {
          "output_type": "execute_result",
          "data": {
            "text/plain": [
              "1692930.9941235583"
            ]
          },
          "metadata": {},
          "execution_count": 13
        }
      ]
    },
    {
      "cell_type": "code",
      "source": [
        "R = .09"
      ],
      "metadata": {
        "id": "NYHCNAZRPEFD"
      },
      "execution_count": null,
      "outputs": []
    },
    {
      "cell_type": "code",
      "source": [
        "45 * (1+R)**30 + sum()"
      ],
      "metadata": {
        "id": "FmYsH8-dKpcv"
      },
      "execution_count": null,
      "outputs": []
    }
  ]
}