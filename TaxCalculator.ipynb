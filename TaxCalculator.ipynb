{
  "nbformat": 4,
  "nbformat_minor": 0,
  "metadata": {
    "colab": {
      "provenance": [],
      "authorship_tag": "ABX9TyNMMOYuYAmvjnsG5K3KEiQ9",
      "include_colab_link": true
    },
    "kernelspec": {
      "name": "python3",
      "display_name": "Python 3"
    },
    "language_info": {
      "name": "python"
    }
  },
  "cells": [
    {
      "cell_type": "markdown",
      "metadata": {
        "id": "view-in-github",
        "colab_type": "text"
      },
      "source": [
        "<a href=\"https://colab.research.google.com/github/lihaoranIcefire/Portfolio/blob/main/TaxCalculator.ipynb\" target=\"_parent\"><img src=\"https://colab.research.google.com/assets/colab-badge.svg\" alt=\"Open In Colab\"/></a>"
      ]
    },
    {
      "cell_type": "code",
      "source": [
        "import pandas as pd\n",
        "import numpy as np\n",
        "import matplotlib as plt\n",
        "import re"
      ],
      "metadata": {
        "id": "VZLrJuuWUSKO"
      },
      "execution_count": 2,
      "outputs": []
    },
    {
      "cell_type": "code",
      "source": [
        "!wget -c https://raw.githubusercontent.com/lihaoranIcefire/Portfolio/refs/heads/main/TaxBrackets.csv"
      ],
      "metadata": {
        "id": "7x8H5KbISuy3",
        "outputId": "c8cd54da-489e-4447-cac2-c0f83a34cb73",
        "colab": {
          "base_uri": "https://localhost:8080/"
        }
      },
      "execution_count": 125,
      "outputs": [
        {
          "output_type": "stream",
          "name": "stdout",
          "text": [
            "--2024-12-18 20:26:01--  https://raw.githubusercontent.com/lihaoranIcefire/Portfolio/refs/heads/main/TaxBrackets.csv\n",
            "Resolving raw.githubusercontent.com (raw.githubusercontent.com)... 185.199.109.133, 185.199.110.133, 185.199.108.133, ...\n",
            "Connecting to raw.githubusercontent.com (raw.githubusercontent.com)|185.199.109.133|:443... connected.\n",
            "HTTP request sent, awaiting response... 200 OK\n",
            "Length: 811 [text/plain]\n",
            "Saving to: ‘TaxBrackets.csv’\n",
            "\n",
            "\rTaxBrackets.csv       0%[                    ]       0  --.-KB/s               \rTaxBrackets.csv     100%[===================>]     811  --.-KB/s    in 0s      \n",
            "\n",
            "2024-12-18 20:26:01 (53.3 MB/s) - ‘TaxBrackets.csv’ saved [811/811]\n",
            "\n"
          ]
        }
      ]
    },
    {
      "cell_type": "code",
      "source": [
        "dc = {\n",
        "    \"federal_tax_bracket\":[\n",
        "        [\n",
        "            0,\n",
        "            6400,\n",
        "            18325,\n",
        "            54875,\n",
        "            109750,\n",
        "            203700,\n",
        "            256925,\n",
        "            632750\n",
        "        ],\n",
        "        [\n",
        "            0.0,\n",
        "            0.1,\n",
        "            0.12,\n",
        "            0.22,\n",
        "            0.24,\n",
        "            0.32,\n",
        "            0.35,\n",
        "            0.37\n",
        "        ]\n",
        "    ],\n",
        "    \"capital_gain_tax_bracket\":[\n",
        "        [\n",
        "            0,\n",
        "            44625,\n",
        "            492300\n",
        "        ],\n",
        "        [\n",
        "            0.0,\n",
        "            0.15,\n",
        "            0.20\n",
        "        ]\n",
        "    ],\n",
        "    \"standard_deduction\": 14600\n",
        "}"
      ],
      "metadata": {
        "id": "DxMgBKesRWN1"
      },
      "execution_count": 119,
      "outputs": []
    },
    {
      "cell_type": "code",
      "source": [
        "with open(\"test.json\", \"w\") as json_file:\n",
        "    json.dump(dc, json_file, indent=4)"
      ],
      "metadata": {
        "id": "OOYeDMW6RYMr"
      },
      "execution_count": 122,
      "outputs": []
    },
    {
      "cell_type": "markdown",
      "source": [
        "# Tax Calculator"
      ],
      "metadata": {
        "id": "dpSxYaHFUvgv"
      }
    },
    {
      "cell_type": "code",
      "source": [
        "import pandas as pd\n",
        "import numpy as np\n",
        "import matplotlib as plt\n",
        "import re\n",
        "import json\n",
        "\n",
        "class TaxCalculator:\n",
        "    \"\"\"\n",
        "    Personal tax calculator\n",
        "    \"\"\"\n",
        "\n",
        "    def __init__(self,\n",
        "                 status='single',\n",
        "                 year=2024,\n",
        "                 salary=175000,\n",
        "                 bonus=35000,\n",
        "                 short_term_capital_gain=0,\n",
        "                 long_term_capital_gain=0,\n",
        "                 tax_treaty=5000,\n",
        "                 traditional_401k=0,\n",
        "                 hsa=0,\n",
        "                 donation=0,\n",
        "                 federal_tax_withheld=0):\n",
        "\n",
        "        self.status = status\n",
        "        self.year = year\n",
        "        self.salary = salary\n",
        "        self.bonus = bonus\n",
        "        self.short_term_capital_gain = short_term_capital_gain\n",
        "        self.long_term_capital_gain = long_term_capital_gain\n",
        "        self.traditional_401k = traditional_401k\n",
        "        self.hsa = hsa\n",
        "        self.donation = donation\n",
        "        self.federal_tax_withheld = federal_tax_withheld\n",
        "\n",
        "        with open(f\"{status}_{year}_tax_info.json\", \"r\") as file:\n",
        "            tax_info = json.load(file)\n",
        "        self.federal_tax_bracket = self.info[\"federal_tax_bracket\"]\n",
        "        self.capital_gain_tax_bracket = self.info[\"capital_gain_tax_bracket\"]\n",
        "        self.standar_deduction = self.info[\"standar_deduction\"]\n",
        "\n",
        "    @staticmethod\n",
        "    def tax_liability(interval, rates, income, staircase=True):\n",
        "        assert len(interval) == len(rates)\n",
        "\n",
        "        if not staircase:\n",
        "            for i in range(len(rates)-1):\n",
        "                if interval[i] < income <= interval[i+1]:\n",
        "                    return income * rates[i]\n",
        "\n",
        "        accrued_sum = 0\n",
        "        for i in range(len(rates)-1):\n",
        "            if income < interval[i+1]:\n",
        "                return accrued_sum + (income - interval[i]) * rates[i]\n",
        "            else:\n",
        "                accrued_sum += (interval[i+1] - interval[i]) * rates[i]\n",
        "        return accrued_sum + (income - interval[-1]) * rates[-1]\n",
        "\n",
        "    def federal_tax(self, deduction_method='standard'):\n",
        "\n",
        "        if deduction_method == 'standard':\n",
        "            taxable_income = self.salary \\\n",
        "                        + self.bonus \\\n",
        "                        + self.short_term_capital_gain \\\n",
        "                        - self.traditional_401k \\\n",
        "                        - self.hsa \\\n",
        "                        - self.standar_deduction\n",
        "\n",
        "        return TaxCalculator.tax_liability(*self.federal_tax_bracket, taxable_income) \\\n",
        "             + TaxCalculator.tax_liability(*self.capital_gain_tax_bracket, self.long_term_capital_gain) \\\n",
        "\n",
        "\n",
        "    # def fica(icome)\n",
        "\n",
        "    # def state_tax\n",
        "\n",
        "    # def local_tax\n",
        "\n",
        "    # def f1040"
      ],
      "metadata": {
        "id": "aG7gNHQJ072z"
      },
      "execution_count": 111,
      "outputs": []
    },
    {
      "cell_type": "markdown",
      "source": [
        "## Federal income tax\n",
        "\n",
        "1. `annual_wage`: (paycheck's gross pay) $\\times$ (pay frequency). The pay frequency is\n",
        "    - once per quarter: **Quarterly = 4**\n",
        "    - once a month: **Monthly = 12**\n",
        "    - twice per month: **Semi-monthly = 24**\n",
        "    - once every other week: **Bi-weekly = 26**\n",
        "    - every week: **Weekly = 52**\n",
        "2. `filing_status`: Either \"single\", \"married filing separately\", \"married filing jointly\", or \"head of household\".\n",
        "3. `other_income`: The amount from Step 4(a) of Form W-4 (additional income not from jobs. Such as interests, dividends, retirement, etc.) and add it to the wages from Step 3. Write this result down.\n",
        "4. `additional_deduction`: The amount from Step 4(b) of Form W-4 (additional deductions beyond the standard deduction).\n",
        "5. `multiple_jobs`: The Step 2 box of Form W-4.\n",
        "7. `adjusted_annual_wage`: Taxable income for the tax brackets.\n",
        "8. Tax brackets are on page 11 of the IRS Publication 15T:\n",
        "    - If the Step 2 box of Form W-4 is **not checked**, use the table on the left.\n",
        "    - If the Step 2 box of Form W-4 is **checked**, use the table on the right.\n",
        "9. `additional_credit`: Step 3 of Form W-4.\n",
        "10. `additional_deduction`: Step 4(c) of Form W-4."
      ],
      "metadata": {
        "id": "hlVIpv2KdLuR"
      }
    },
    {
      "cell_type": "code",
      "source": [
        "TaxCalculator.federal_income_tax(280000, filing_status=\"married filing jointly\")"
      ],
      "metadata": {
        "id": "useQ73IAYVZG",
        "outputId": "b506403e-a126-4d5b-badf-367b9f3ae51c",
        "colab": {
          "base_uri": "https://localhost:8080/"
        }
      },
      "execution_count": 39,
      "outputs": [
        {
          "output_type": "execute_result",
          "data": {
            "text/plain": [
              "48790.0"
            ]
          },
          "metadata": {},
          "execution_count": 39
        }
      ]
    },
    {
      "cell_type": "code",
      "source": [
        "TaxCalculator.federal_income_tax(280000)"
      ],
      "metadata": {
        "colab": {
          "base_uri": "https://localhost:8080/"
        },
        "id": "MjlOzXPV514z",
        "outputId": "73e5e8c9-e97c-422d-e720-62cdec91a6b2"
      },
      "execution_count": 40,
      "outputs": [
        {
          "output_type": "execute_result",
          "data": {
            "text/plain": [
              "65307.25"
            ]
          },
          "metadata": {},
          "execution_count": 40
        }
      ]
    },
    {
      "cell_type": "code",
      "source": [
        "TaxCalculator.federal_income_tax(210000 - 23000 - 4150) / (210000)"
      ],
      "metadata": {
        "id": "jddIENRa7kBV",
        "outputId": "4518f6c0-c46b-4a82-ff82-79bd7765276d",
        "colab": {
          "base_uri": "https://localhost:8080/"
        }
      },
      "execution_count": 20,
      "outputs": [
        {
          "output_type": "execute_result",
          "data": {
            "text/plain": [
              "0.1675952380952381"
            ]
          },
          "metadata": {},
          "execution_count": 20
        }
      ]
    },
    {
      "cell_type": "code",
      "source": [
        "210000 - 23000 - 4150"
      ],
      "metadata": {
        "id": "96RA62EyGebP",
        "outputId": "06339c1c-029d-4138-901b-bcf46f657a09",
        "colab": {
          "base_uri": "https://localhost:8080/"
        }
      },
      "execution_count": 15,
      "outputs": [
        {
          "output_type": "execute_result",
          "data": {
            "text/plain": [
              "182850"
            ]
          },
          "metadata": {},
          "execution_count": 15
        }
      ]
    },
    {
      "cell_type": "code",
      "source": [
        "TaxCalculator.tax_liability([0, 20000, 35000, 40000, 75000, 500000, 1000000], [0.014, 0.0175, 0.035, 0.0525, 0.0637, 0.0897, 0.1075], 210000 - 23000 - 14600)"
      ],
      "metadata": {
        "id": "-EtnlGXzHLKq",
        "outputId": "10b2c028-157b-467a-dfa5-d3bfd1ec2cd6",
        "colab": {
          "base_uri": "https://localhost:8080/"
        }
      },
      "execution_count": 23,
      "outputs": [
        {
          "output_type": "execute_result",
          "data": {
            "text/plain": [
              "8759.380000000001"
            ]
          },
          "metadata": {},
          "execution_count": 23
        }
      ]
    },
    {
      "cell_type": "code",
      "source": [
        "9689.4 / 210000"
      ],
      "metadata": {
        "id": "cYRlAS2wI-Fk",
        "outputId": "dc47ab6e-8cc5-4c68-aad5-ec092643536b",
        "colab": {
          "base_uri": "https://localhost:8080/"
        }
      },
      "execution_count": 19,
      "outputs": [
        {
          "output_type": "execute_result",
          "data": {
            "text/plain": [
              "0.04614"
            ]
          },
          "metadata": {},
          "execution_count": 19
        }
      ]
    },
    {
      "cell_type": "code",
      "source": [
        "(8759.38 + TaxCalculator.federal_income_tax(210000 - 23000 - 4150 - 14600)) / 210000"
      ],
      "metadata": {
        "id": "d1svXirsJK0g",
        "outputId": "492f9325-92b9-4cd5-8dd9-e71c7b3e5b88",
        "colab": {
          "base_uri": "https://localhost:8080/"
        }
      },
      "execution_count": 24,
      "outputs": [
        {
          "output_type": "execute_result",
          "data": {
            "text/plain": [
              "0.19262085714285712"
            ]
          },
          "metadata": {},
          "execution_count": 24
        }
      ]
    },
    {
      "cell_type": "code",
      "source": [
        "fica_ = 168600 * 0.062 + 210000 * 0.0145"
      ],
      "metadata": {
        "id": "KNbQnyaawJj1"
      },
      "execution_count": 172,
      "outputs": []
    },
    {
      "cell_type": "code",
      "source": [
        "(210000 - fica_ - itemized_) / 12"
      ],
      "metadata": {
        "id": "_o38aU0GwnTf",
        "outputId": "da7db608-5be0-46ba-8f0e-d36675d32d8c",
        "colab": {
          "base_uri": "https://localhost:8080/"
        }
      },
      "execution_count": 186,
      "outputs": [
        {
          "output_type": "execute_result",
          "data": {
            "text/plain": [
              "13987.545833333332"
            ]
          },
          "metadata": {},
          "execution_count": 186
        }
      ]
    },
    {
      "cell_type": "code",
      "source": [
        "210000 - fica_ - standard_"
      ],
      "metadata": {
        "id": "d5Xz2s-kwYLA",
        "outputId": "0e38c241-e8cc-4838-e319-a0113486e111",
        "colab": {
          "base_uri": "https://localhost:8080/"
        }
      },
      "execution_count": 180,
      "outputs": [
        {
          "output_type": "execute_result",
          "data": {
            "text/plain": [
              "157251.41999999998"
            ]
          },
          "metadata": {},
          "execution_count": 180
        }
      ]
    },
    {
      "cell_type": "code",
      "source": [
        "standard_ = \\\n",
        "TaxCalculator.tax_liability([0, 20000, 35000, 40000, 75000, 500000, 1000000],\n",
        "                            [0.014, 0.0175, 0.035, 0.0525, 0.0637, 0.0897, 0.1075], 210000 - 23000 - 14600) \\\n",
        "+ TaxCalculator.federal_income_tax(210000 - 23000 - 4150 - 5000 - 14600)"
      ],
      "metadata": {
        "id": "6pj1NDkIJSs2"
      },
      "execution_count": 176,
      "outputs": []
    },
    {
      "cell_type": "code",
      "source": [
        "itemized_ = \\\n",
        "TaxCalculator.tax_liability([0, 20000, 35000, 40000, 75000, 500000, 1000000],\n",
        "                            [0.014, 0.0175, 0.035, 0.0525, 0.0637, 0.0897, 0.1075], 210000 - 23000 - 49500) \\\n",
        "+ TaxCalculator.federal_income_tax(210000 - 23000 - 4150 - 5000 - 49500)"
      ],
      "metadata": {
        "id": "NjOQ_ii9KEQa"
      },
      "execution_count": 177,
      "outputs": []
    },
    {
      "cell_type": "code",
      "source": [
        "standard_ - itemized_"
      ],
      "metadata": {
        "id": "8GQUV3ayKdPa",
        "outputId": "197fcae9-e33e-4ea6-8782-8f39f48cdba1",
        "colab": {
          "base_uri": "https://localhost:8080/"
        }
      },
      "execution_count": 36,
      "outputs": [
        {
          "output_type": "execute_result",
          "data": {
            "text/plain": [
              "10599.130000000005"
            ]
          },
          "metadata": {},
          "execution_count": 36
        }
      ]
    },
    {
      "cell_type": "code",
      "source": [
        "mortgage_rate = 0.065"
      ],
      "metadata": {
        "id": "4BM-AdISxHQo"
      },
      "execution_count": 11,
      "outputs": []
    },
    {
      "cell_type": "code",
      "source": [
        "744000 * mortgage_rate / 12 * (1 + mortgage_rate / 12) ** (12 * 30) / ((1 + mortgage_rate / 12) ** (12 * 30) - 1)"
      ],
      "metadata": {
        "id": "6vWY7FYNw-Ki",
        "outputId": "6e1bbc5b-0104-4eaa-cf90-721c58757f33",
        "colab": {
          "base_uri": "https://localhost:8080/"
        }
      },
      "execution_count": 12,
      "outputs": [
        {
          "output_type": "execute_result",
          "data": {
            "text/plain": [
              "4702.586094787662"
            ]
          },
          "metadata": {},
          "execution_count": 12
        }
      ]
    },
    {
      "cell_type": "code",
      "source": [
        "_ * 360"
      ],
      "metadata": {
        "id": "bozoGF-1yJjJ",
        "outputId": "233beb6a-321b-47e0-b34f-37ddec3ffd3d",
        "colab": {
          "base_uri": "https://localhost:8080/"
        }
      },
      "execution_count": 13,
      "outputs": [
        {
          "output_type": "execute_result",
          "data": {
            "text/plain": [
              "1692930.9941235583"
            ]
          },
          "metadata": {},
          "execution_count": 13
        }
      ]
    },
    {
      "cell_type": "code",
      "source": [
        "R = .09"
      ],
      "metadata": {
        "id": "NYHCNAZRPEFD"
      },
      "execution_count": null,
      "outputs": []
    },
    {
      "cell_type": "code",
      "source": [
        "45 * (1+R)**30 + sum()"
      ],
      "metadata": {
        "id": "FmYsH8-dKpcv"
      },
      "execution_count": null,
      "outputs": []
    }
  ]
}