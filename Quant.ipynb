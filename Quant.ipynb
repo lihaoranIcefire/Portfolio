{
 "cells": [
  {
   "cell_type": "markdown",
   "metadata": {},
   "source": [
    "# Quantitative Finance"
   ]
  },
  {
   "cell_type": "markdown",
   "metadata": {},
   "source": [
    "## Basics"
   ]
  },
  {
   "cell_type": "markdown",
   "metadata": {},
   "source": [
    "- Volatility $\\sigma$ is the sample variance of returns. And volatility over time horizon $T$ is $\\sigma_T=\\sigma\\sqrt{T}$\n",
    "- Drawdown $D(T) = \\dfrac{X_T - X_{\\text{peak}}}{X_\\text{peak}}$, where $X_{\\text{peak}} = \\max\\limits_{t\\in(0,T)}X_t$\n",
    "- Skewness $E\\left(\\frac{X-\\mu}{\\sigma}\\right)^3$\n",
    "- Kurtosis $E\\left(\\frac{X-\\mu}{\\sigma}\\right)^4$\n",
    "- Sharpe ratio $E(R-r_f) / \\sqrt{\\operatorname{Var}(R)}$\n",
    "- Funding ratio is $\\text{asset values} / \\text{present value of liability}$"
   ]
  },
  {
   "cell_type": "markdown",
   "metadata": {},
   "source": [
    "#### Jarque-Bera test (Normality test)\n",
    "\n",
    "The test statistic is $\\dfrac{n}{6}\\left(S^2+\\dfrac{1}{4}(K-3)^2\\right)$, where $S$ is the skewness and $K$ is the kurtosis"
   ]
  },
  {
   "cell_type": "markdown",
   "metadata": {},
   "source": [
    "#### Value at Risk (VaR)\n",
    "\n",
    "$\\text{VaR}_{\\alpha}:=-\\inf\\limits_x\\{\\mathbb P(R\\geq x)\\leq\\alpha\\}\\Leftrightarrow \\mathbb P(R \\geq -\\text{VaR}_{\\alpha})=\\alpha\\Leftrightarrow \\mathbb P(R < -\\text{VaR}_{\\alpha})=1 - \\alpha$\n",
    "- Historic $\\text{VaR}_\\alpha$ is the $(100-\\alpha)$-th percentile\n",
    "- Parametric $\\text{VaR}_\\alpha=-(\\mu+\\sigma z_\\alpha)$, by assuming $R\\sim\\mathcal N(\\mu,\\sigma^2)$, $Z_\\alpha$ is the $\\alpha$-th quantile such that $\\Phi(z_\\alpha)=1-\\alpha$\n",
    "- Cornish-Fisher expansion of quantiles $\\tilde z_\\alpha=z_\\alpha+\\frac{1}{6}(z_\\alpha^2-1)S+\\frac{1}{24}(z_\\alpha^3-3z_\\alpha)(K-3)-\\frac{1}{36}(2z_\\alpha^3-5z_\\alpha)S^2$, where $S$, $K$ are skewness and kurtosis. And $\\text{VaR}_\\alpha=-(\\mu+\\tilde z_\\alpha\\sigma)$\n",
    "\n",
    "#### Conditional VaR\n",
    "\n",
    "$\\text{CVaR}:=-\\mathbb E(R|R<-\\text{VaR})=-\\dfrac{\\displaystyle\\int_{-\\infty}^{-\\text{VaR}}tf_R(t)dt}{F_R(-\\text{VaR})}$"
   ]
  },
  {
   "cell_type": "markdown",
   "metadata": {},
   "source": [
    "## Modern portfolio theory"
   ]
  },
  {
   "cell_type": "markdown",
   "metadata": {},
   "source": [
    "Read [Geometry of the Efficient Frontier](https://gregorygundersen.com/blog/2022/01/09/geometry-efficient-frontier/)"
   ]
  },
  {
   "cell_type": "markdown",
   "metadata": {},
   "source": [
    "#### Constant Proportion Portfolio Insurance (CPPI)\n",
    "\n",
    "This is a strategy of dynamic allocation between a risky and a riskless asset.\n",
    "\n",
    "Suppose $A$ is the value of our portfolio, called the *account value*, $F=fA$ is the *floor value* ($f$ denotes the percentage of our wealth we want to preserve), $A-F$ is called the *cushion value*. We would like to allocate to a risky asset $E=m(A-F)$ and the remaining to the safe asset. Suppose the risky asset drops by $d$ percent, the *drop value* is $dE$, and $A-dE$ should be greater or equal to $F$. so $1-dm(1-f)\\geq f\\Rightarrow m\\leq\\dfrac{1}{d}$"
   ]
  },
  {
   "cell_type": "markdown",
   "metadata": {},
   "source": [
    "#### Vasicek model\n",
    "\n",
    "$dr_t=a(b-r_t)dt+\\sigma dW_t$\n",
    "- $a$ is known as the mean-reversion speed (how fast the interest rate reverts to its mean)\n",
    "- $b$ is the long-term mean of the interest rate\n",
    "\n",
    "#### CIR model\n",
    "\n",
    "$dr_t=a(b-r_t)dt+\\sigma\\sqrt{r_t}dW_t$\n",
    "- $\\sigma\\sqrt{r_t}dW_t$ prevents the interests to become negative"
   ]
  },
  {
   "cell_type": "markdown",
   "metadata": {},
   "source": [
    "#### Liability hedging\n",
    "\n",
    "Mixed liability driven investing (LDI) of performance-seeking portfolio (PSP) and liability-hedging portfolio (LHP)"
   ]
  }
 ],
 "metadata": {
  "language_info": {
   "name": "python"
  }
 },
 "nbformat": 4,
 "nbformat_minor": 2
}
