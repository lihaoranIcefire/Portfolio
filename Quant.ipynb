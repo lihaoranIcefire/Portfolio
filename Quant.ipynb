{
 "cells": [
  {
   "cell_type": "markdown",
   "metadata": {},
   "source": [
    "# Quantitative Finance"
   ]
  },
  {
   "cell_type": "markdown",
   "metadata": {},
   "source": [
    "## Terminologies"
   ]
  },
  {
   "cell_type": "markdown",
   "metadata": {},
   "source": [
    "- Drawdown $D(T) = \\dfrac{X_T - X_{\\text{peak}}}{X_\\text{peak}}$, where $X_{\\text{peak}} = \\max\\limits_{t\\in(0,T)}X_t$\n",
    "- Skewness $E\\left(\\frac{X-\\mu}{\\sigma}\\right)^3$\n",
    "- Kurtosis $E\\left(\\frac{X-\\mu}{\\sigma}\\right)^4$\n",
    "- Sharpe ratio $E(X-\\mu) / E(\\sigma)$"
   ]
  },
  {
   "cell_type": "markdown",
   "metadata": {},
   "source": [
    "#### Jarque-Bera test\n",
    "\n",
    "The test statistic is $\\dfrac{n}{6}\\left(S^2+\\dfrac{1}{4}(K-3)^2\\right)$, where $S$ is the skewness and $K$ is the kurtosis"
   ]
  }
 ],
 "metadata": {
  "language_info": {
   "name": "python"
  }
 },
 "nbformat": 4,
 "nbformat_minor": 2
}
